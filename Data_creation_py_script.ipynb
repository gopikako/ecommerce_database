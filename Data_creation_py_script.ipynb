{
 "cells": [
  {
   "cell_type": "code",
   "execution_count": 12,
   "id": "986d32f9",
   "metadata": {
    "execution": {
     "iopub.execute_input": "2023-05-02T23:38:07.493355Z",
     "iopub.status.busy": "2023-05-02T23:38:07.492986Z",
     "iopub.status.idle": "2023-05-02T23:38:07.498509Z",
     "shell.execute_reply": "2023-05-02T23:38:07.497691Z",
     "shell.execute_reply.started": "2023-05-02T23:38:07.493319Z"
    }
   },
   "outputs": [],
   "source": [
    "from faker import Faker\n",
    "from datetime import datetime\n",
    "import pandas as pd\n",
    "import numpy as np\n",
    "import random"
   ]
  },
  {
   "cell_type": "code",
   "execution_count": 11,
   "id": "0b236d3e",
   "metadata": {
    "execution": {
     "iopub.execute_input": "2023-05-02T23:37:56.799503Z",
     "iopub.status.busy": "2023-05-02T23:37:56.799075Z",
     "iopub.status.idle": "2023-05-02T23:38:07.490582Z",
     "shell.execute_reply": "2023-05-02T23:38:07.489281Z",
     "shell.execute_reply.started": "2023-05-02T23:37:56.799469Z"
    }
   },
   "outputs": [
    {
     "name": "stdout",
     "output_type": "stream",
     "text": [
      "Requirement already satisfied: faker in /opt/conda/lib/python3.10/site-packages (18.6.1)\n",
      "Requirement already satisfied: python-dateutil>=2.4 in /opt/conda/lib/python3.10/site-packages (from faker) (2.8.2)\n",
      "Requirement already satisfied: six>=1.5 in /opt/conda/lib/python3.10/site-packages (from python-dateutil>=2.4->faker) (1.16.0)\n",
      "\u001b[33mWARNING: Running pip as the 'root' user can result in broken permissions and conflicting behaviour with the system package manager. It is recommended to use a virtual environment instead: https://pip.pypa.io/warnings/venv\u001b[0m\u001b[33m\n",
      "\u001b[0mNote: you may need to restart the kernel to use updated packages.\n"
     ]
    }
   ],
   "source": [
    "pip install faker"
   ]
  },
  {
   "cell_type": "code",
   "execution_count": 13,
   "id": "67b9a974",
   "metadata": {
    "execution": {
     "iopub.execute_input": "2023-05-02T23:38:07.500741Z",
     "iopub.status.busy": "2023-05-02T23:38:07.500081Z",
     "iopub.status.idle": "2023-05-02T23:38:07.534112Z",
     "shell.execute_reply": "2023-05-02T23:38:07.533258Z",
     "shell.execute_reply.started": "2023-05-02T23:38:07.500703Z"
    }
   },
   "outputs": [],
   "source": [
    "fake = Faker()"
   ]
  },
  {
   "cell_type": "code",
   "execution_count": 14,
   "id": "521de2f0",
   "metadata": {
    "execution": {
     "iopub.execute_input": "2023-05-02T23:38:13.004127Z",
     "iopub.status.busy": "2023-05-02T23:38:13.003771Z",
     "iopub.status.idle": "2023-05-02T23:38:13.013186Z",
     "shell.execute_reply": "2023-05-02T23:38:13.012212Z",
     "shell.execute_reply.started": "2023-05-02T23:38:13.004098Z"
    }
   },
   "outputs": [
    {
     "name": "stdout",
     "output_type": "stream",
     "text": [
      "2022-09-27\n"
     ]
    }
   ],
   "source": [
    "#Extra stuff (for test)\n",
    "Faker.seed(1)\n",
    "start_date = datetime.strptime('2022-09-01', '%Y-%m-%d').date()\n",
    "end_date = datetime.strptime('2022-12-31', '%Y-%m-%d').date()\n",
    "fake_variable = fake.date_between_dates(date_start=start_date, date_end=end_date)\n",
    "print(fake_variable)"
   ]
  },
  {
   "cell_type": "code",
   "execution_count": 15,
   "id": "81533f5f",
   "metadata": {
    "execution": {
     "iopub.execute_input": "2023-05-02T23:38:15.634333Z",
     "iopub.status.busy": "2023-05-02T23:38:15.633989Z",
     "iopub.status.idle": "2023-05-02T23:38:15.643440Z",
     "shell.execute_reply": "2023-05-02T23:38:15.642258Z",
     "shell.execute_reply.started": "2023-05-02T23:38:15.634306Z"
    }
   },
   "outputs": [],
   "source": [
    "#fake orders - except order_value\n",
    "\n",
    "def make_orders(num):\n",
    "    \n",
    "    start_date = datetime.strptime('2022-09-01', '%Y-%m-%d').date()\n",
    "    end_date = datetime.strptime('2022-12-31', '%Y-%m-%d').date()\n",
    "\n",
    "    order_source=['Others','AnyKart.Com']\n",
    "    shpmt_typ=['Prime','Standard']\n",
    "    fake_orders=[]\n",
    "    Ord_list=[]\n",
    "    \n",
    "    for x in range(num):\n",
    "        Ord_ID='AKT_' + fake.numerify('########')\n",
    "        \n",
    "        while Ord_ID in Ord_list:\n",
    "            Ord_ID='AKT_' + fake.numerify('########')\n",
    "        \n",
    "        fake_orders_dict = {'Order_ID':Ord_ID, \n",
    "             'Order_Date':fake.date_between_dates(date_start=start_date, date_end=end_date),\n",
    "             'Order_Source':fake.random_element(elements=order_source),\n",
    "             'Shipment_Type':fake.random_element(elements=shpmt_typ)\n",
    "            } \n",
    "        \n",
    "        Ord_list.append(Ord_ID)\n",
    "        fake_orders.append(fake_orders_dict)\n",
    "    \n",
    "    df_ord=pd.DataFrame(fake_orders)\n",
    "    \n",
    "    return df_ord"
   ]
  },
  {
   "cell_type": "code",
   "execution_count": 16,
   "id": "b96ae316",
   "metadata": {
    "execution": {
     "iopub.execute_input": "2023-05-02T23:38:17.852165Z",
     "iopub.status.busy": "2023-05-02T23:38:17.851820Z",
     "iopub.status.idle": "2023-05-02T23:40:20.108930Z",
     "shell.execute_reply": "2023-05-02T23:40:20.107861Z",
     "shell.execute_reply.started": "2023-05-02T23:38:17.852137Z"
    }
   },
   "outputs": [],
   "source": [
    "orders_df = make_orders(num=90000)"
   ]
  },
  {
   "cell_type": "code",
   "execution_count": 18,
   "id": "acae08fe",
   "metadata": {
    "execution": {
     "iopub.execute_input": "2023-05-02T23:40:20.126542Z",
     "iopub.status.busy": "2023-05-02T23:40:20.125635Z",
     "iopub.status.idle": "2023-05-02T23:40:20.140754Z",
     "shell.execute_reply": "2023-05-02T23:40:20.139702Z",
     "shell.execute_reply.started": "2023-05-02T23:40:20.126437Z"
    }
   },
   "outputs": [
    {
     "data": {
      "text/html": [
       "<div>\n",
       "<style scoped>\n",
       "    .dataframe tbody tr th:only-of-type {\n",
       "        vertical-align: middle;\n",
       "    }\n",
       "\n",
       "    .dataframe tbody tr th {\n",
       "        vertical-align: top;\n",
       "    }\n",
       "\n",
       "    .dataframe thead th {\n",
       "        text-align: right;\n",
       "    }\n",
       "</style>\n",
       "<table border=\"1\" class=\"dataframe\">\n",
       "  <thead>\n",
       "    <tr style=\"text-align: right;\">\n",
       "      <th></th>\n",
       "      <th>Order_ID</th>\n",
       "      <th>Order_Date</th>\n",
       "      <th>Order_Source</th>\n",
       "      <th>Shipment_Type</th>\n",
       "    </tr>\n",
       "  </thead>\n",
       "  <tbody>\n",
       "    <tr>\n",
       "      <th>0</th>\n",
       "      <td>AKT_91417776</td>\n",
       "      <td>2022-10-11</td>\n",
       "      <td>Others</td>\n",
       "      <td>Standard</td>\n",
       "    </tr>\n",
       "    <tr>\n",
       "      <th>1</th>\n",
       "      <td>AKT_06690743</td>\n",
       "      <td>2022-12-24</td>\n",
       "      <td>Others</td>\n",
       "      <td>Standard</td>\n",
       "    </tr>\n",
       "    <tr>\n",
       "      <th>2</th>\n",
       "      <td>AKT_00080636</td>\n",
       "      <td>2022-09-06</td>\n",
       "      <td>Others</td>\n",
       "      <td>Standard</td>\n",
       "    </tr>\n",
       "    <tr>\n",
       "      <th>3</th>\n",
       "      <td>AKT_78353374</td>\n",
       "      <td>2022-09-05</td>\n",
       "      <td>AnyKart.Com</td>\n",
       "      <td>Prime</td>\n",
       "    </tr>\n",
       "    <tr>\n",
       "      <th>4</th>\n",
       "      <td>AKT_24158683</td>\n",
       "      <td>2022-10-29</td>\n",
       "      <td>AnyKart.Com</td>\n",
       "      <td>Standard</td>\n",
       "    </tr>\n",
       "  </tbody>\n",
       "</table>\n",
       "</div>"
      ],
      "text/plain": [
       "       Order_ID  Order_Date Order_Source Shipment_Type\n",
       "0  AKT_91417776  2022-10-11       Others      Standard\n",
       "1  AKT_06690743  2022-12-24       Others      Standard\n",
       "2  AKT_00080636  2022-09-06       Others      Standard\n",
       "3  AKT_78353374  2022-09-05  AnyKart.Com         Prime\n",
       "4  AKT_24158683  2022-10-29  AnyKart.Com      Standard"
      ]
     },
     "execution_count": 18,
     "metadata": {},
     "output_type": "execute_result"
    }
   ],
   "source": [
    "orders_df.head()"
   ]
  },
  {
   "cell_type": "code",
   "execution_count": null,
   "id": "39799cbf",
   "metadata": {},
   "outputs": [],
   "source": []
  },
  {
   "cell_type": "code",
   "execution_count": 198,
   "id": "70c24d20",
   "metadata": {},
   "outputs": [],
   "source": [
    "#Extra stuff (for test)\n",
    "value='AKT_44424718'"
   ]
  },
  {
   "cell_type": "code",
   "execution_count": 199,
   "id": "7f419cc3",
   "metadata": {
    "scrolled": true
   },
   "outputs": [
    {
     "data": {
      "text/plain": [
       "'SKU_2201'"
      ]
     },
     "execution_count": 199,
     "metadata": {},
     "output_type": "execute_result"
    }
   ],
   "source": [
    "#Extra stuff (for test)\n",
    "Faker.seed(1)\n",
    "f\"SKU_{'{:4d}'.format(fake.random_number(digits=4))}\""
   ]
  },
  {
   "cell_type": "code",
   "execution_count": 19,
   "id": "c5a7995e",
   "metadata": {
    "execution": {
     "iopub.execute_input": "2023-05-02T23:40:20.144116Z",
     "iopub.status.busy": "2023-05-02T23:40:20.143616Z",
     "iopub.status.idle": "2023-05-02T23:40:20.154833Z",
     "shell.execute_reply": "2023-05-02T23:40:20.153599Z",
     "shell.execute_reply.started": "2023-05-02T23:40:20.144086Z"
    }
   },
   "outputs": [],
   "source": [
    "def make_SKU(num):\n",
    "    \n",
    "    Product_Category=['Food','Clothing and Apparel','Home Supplies']\n",
    "    \n",
    "    Fd_subcat=['Frozen','Bakery','Groceries','Meat']\n",
    "    CA_subcat=[\"Men's Clothing\",\"Women's Clothing\",\"Kids\"]\n",
    "    HS_subcat=[\"Pet Supplies\",\"Utensils\",\"Accessories\",\"Cleaning\"]\n",
    "    \n",
    "    Fd_Manf=['Mestle','Nyson','Allogs']\n",
    "    CA_Manf=['MK','CK','H&M']\n",
    "    HS_Manf=['Turina','PawLuv','PetLove']\n",
    "    \n",
    "    fake_SKUs=[]\n",
    "    \n",
    "    SKU_list=[]\n",
    "    for i in range(num):\n",
    "        Bp=fake.random_int(min=10, max=499)\n",
    "        PC=fake.random_element(elements=Product_Category)\n",
    "        SKU='SKU_' + fake.numerify('####')\n",
    "        \n",
    "        while SKU in SKU_list:\n",
    "            SKU='SKU_' + fake.numerify('####')\n",
    "                \n",
    "        fake_SKUs_dict={'SKU':SKU,\n",
    "             'Product_Category':PC,\n",
    "             'Product_Sub_Category':fake.random_element(elements=Fd_subcat) if PC=='Food' else (fake.random_element(elements=CA_subcat) if PC=='Clothing and Apparel' else fake.random_element(elements=HS_subcat)),\n",
    "             'Product_Color':fake.color_name() if PC=='Clothing and Apparel' or PC=='Home Supplies' else None,\n",
    "             'Product_Manufacturer':fake.random_element(elements=Fd_Manf) if PC=='Food' else (fake.random_element(elements=CA_Manf) if PC=='Clothing and Apparel' else fake.random_element(elements=HS_Manf)),\n",
    "             'Product_Buying_Price':Bp,\n",
    "             'Product_Selling_Price':fake.random_int(min=Bp+1, max=500)\n",
    "            }\n",
    "        \n",
    "        SKU_list.append(SKU)\n",
    "        fake_SKUs.append(fake_SKUs_dict)\n",
    "\n",
    "    df_SKUs=pd.DataFrame(fake_SKUs)\n",
    "    \n",
    "    return df_SKUs"
   ]
  },
  {
   "cell_type": "code",
   "execution_count": 20,
   "id": "b01fb355",
   "metadata": {
    "execution": {
     "iopub.execute_input": "2023-05-02T23:40:20.156962Z",
     "iopub.status.busy": "2023-05-02T23:40:20.156576Z",
     "iopub.status.idle": "2023-05-02T23:40:20.193388Z",
     "shell.execute_reply": "2023-05-02T23:40:20.192536Z",
     "shell.execute_reply.started": "2023-05-02T23:40:20.156932Z"
    }
   },
   "outputs": [],
   "source": [
    "SKU_df=make_SKU(500)"
   ]
  },
  {
   "cell_type": "code",
   "execution_count": 21,
   "id": "4e715f87",
   "metadata": {
    "execution": {
     "iopub.execute_input": "2023-05-02T23:40:20.196071Z",
     "iopub.status.busy": "2023-05-02T23:40:20.195384Z",
     "iopub.status.idle": "2023-05-02T23:40:20.214643Z",
     "shell.execute_reply": "2023-05-02T23:40:20.213706Z",
     "shell.execute_reply.started": "2023-05-02T23:40:20.196038Z"
    }
   },
   "outputs": [],
   "source": [
    "def make_suborders(num,df_ord,df_sku):\n",
    "    \n",
    "    if (num<len(df_ord)):\n",
    "        raise ValueError(\"Sub_orders need to be higher than orders\")\n",
    "    else:\n",
    "        unq_orders=df_ord['Order_ID'].unique().tolist()\n",
    "        unq_skus=df_sku['SKU'].unique().tolist()\n",
    "        status=['Processing','Canceled','Order Placed','Delivered','Return']\n",
    "        fulfilment=['AnyKart','Third Party']\n",
    "        DID_list=[]\n",
    "        \n",
    "        subord=[]\n",
    "#         pd.DataFrame(columns=['SubOrder_ID','SKU','Order_ID','QTY','Status','SubOrder_Value','Order_Fulfilment','Delivery_ID'])\n",
    "        \n",
    "        for value in unq_orders:\n",
    "            \n",
    "            ff=fake.random_element(elements=fulfilment)\n",
    "            if ff=='Third Party':\n",
    "                DID=''\n",
    "            else:\n",
    "                DID=f\"55_{'{:2d}'.format(fake.random_number(digits=8))}\"\n",
    "                while DID in DID_list:\n",
    "                    DID=f\"55_{'{:2d}'.format(fake.random_number(digits=8))}\"\n",
    "                DID_list.append(DID)\n",
    "                    \n",
    "            \n",
    "            fake_suborders = {\n",
    "             'SubOrder_ID':f\"{value}_{'{:2d}'.format(fake.random_number(digits=2))}\", \n",
    "             'SKU':fake.random_element(elements=unq_skus), \n",
    "             'Order_ID':value,\n",
    "             'QTY':fake.random_int(min=1, max=10),\n",
    "             'Status':fake.random_element(elements=status),\n",
    "             'Order_Fulfilment':ff,\n",
    "             'Delivery_ID':DID\n",
    "            } \n",
    "            \n",
    "            subord.append(fake_suborders)\n",
    "        \n",
    "#         global df_subord\n",
    "        df_subord=pd.DataFrame(subord)\n",
    "        \n",
    "#         unq_suborders=subord['SubOrder_ID'].unique().tolist()\n",
    "        \n",
    "#         while len(df_subord) < num:\n",
    "#             oid = np.random.choice(unq_orders)\n",
    "        for value in unq_orders:\n",
    "            \n",
    "            if len(subord) >= num:\n",
    "                break\n",
    "\n",
    "            #random select a number i= between 1 and 4\n",
    "            rnd_n1=fake.random_int(min=1, max=4)\n",
    "            #if 1, move to next order_id\n",
    "            if rnd_n1==1:\n",
    "                pass\n",
    "            #if not, random toss 0 or 1\n",
    "            else:\n",
    "                rnd_n2=fake.random_int(min=0, max=1)\n",
    "                \n",
    "                if rnd_n2==0:\n",
    "                    #if 0, then pick the suborder_id for that order_id, generate a new sku for i records\n",
    "#                         print(value)\n",
    "                    unq_suborders=df_subord[df_subord['Order_ID']==value]['SubOrder_ID'].unique().tolist()\n",
    "                    so_val=fake.random_element(elements=unq_suborders)\n",
    "                    unq_so_skus=df_subord[df_subord['SubOrder_ID']==so_val]['SKU'].unique().tolist()\n",
    "                    sub_ff=df_subord[df_subord['SubOrder_ID']==so_val]['Order_Fulfilment'].iloc[0]\n",
    "                    \n",
    "                    if sub_ff=='Third Party':\n",
    "                        del_ID=''\n",
    "                    else:\n",
    "                        del_ID=df_subord[df_subord['SubOrder_ID']==so_val]['Delivery_ID'].iloc[0]\n",
    "                    \n",
    "                    sub_status=df_subord[df_subord['SubOrder_ID']==so_val]['Status'].iloc[0]\n",
    "\n",
    "                    for sub_cnt in range(rnd_n1):\n",
    "                        \n",
    "                        if len(subord) >= num:\n",
    "                            break\n",
    "                        \n",
    "                        #updated so sku list\n",
    "                        unq_so_skus=df_subord[df_subord['SubOrder_ID']==so_val]['SKU'].unique().tolist()\n",
    "                        \n",
    "                        new_sku=fake.random_element(elements=unq_skus)\n",
    "\n",
    "                        while new_sku in unq_so_skus:\n",
    "                            new_sku=fake.random_element(elements=unq_skus)\n",
    "                            \n",
    "                        fake_suborders = {\n",
    "                         'SubOrder_ID':so_val, \n",
    "                         'SKU':new_sku, \n",
    "                         'Order_ID':value,\n",
    "                         'QTY':fake.random_int(min=1, max=10),\n",
    "                         'Status':sub_status,\n",
    "                         'Order_Fulfilment':sub_ff,\n",
    "                         'Delivery_ID':del_ID\n",
    "                        } \n",
    "\n",
    "                        subord.append(fake_suborders)\n",
    "                        #create df and update unq_so_skus and check that list. This could be reason why there is duplication in soborder_ID sku\n",
    "                        df_subord = pd.concat([df_subord, pd.DataFrame.from_records([fake_suborders])])\n",
    "#                         df_subord.append(fake_suborders,ignore_index=True)\n",
    "#                         df_subord=pd.DataFrame(subord)\n",
    "                else:\n",
    "                    #if 1, then create a new suborder_id, pick a sku\n",
    "                    \n",
    "\n",
    "                    for sub_cnt in range(rnd_n1):\n",
    "                        unq_so_skus=df_subord[df_subord['Order_ID']==value]['SKU'].unique().tolist()\n",
    "                        new_sku=fake.random_element(elements=unq_skus)\n",
    "                        \n",
    "                        if len(subord) >= num:\n",
    "                            break\n",
    "                        \n",
    "                        #make sure that this sku doesn't exist for this order already\n",
    "                        while new_sku in unq_so_skus:\n",
    "                            new_sku=fake.random_element(elements=unq_skus)\n",
    "                        \n",
    "                        #make sure that this suborder doesn't already exist\n",
    "                        unq_so_soid=df_subord[df_subord['Order_ID']==value]['SubOrder_ID'].unique().tolist()\n",
    "                        new_so_id=f\"{value}_{'{:2d}'.format(fake.random_number(digits=2))}\"\n",
    "                        \n",
    "                        while new_so_id in unq_so_soid:\n",
    "                            new_so_id=f\"{value}_{'{:2d}'.format(fake.random_number(digits=2))}\"\n",
    "                        \n",
    "                        #check if fulfilled by thirdparty\n",
    "                        ff=fake.random_element(elements=fulfilment)\n",
    "                        if ff=='Third Party':\n",
    "                            DID=''\n",
    "                        else:\n",
    "                            DID=f\"55_{'{:2d}'.format(fake.random_number(digits=8))}\"\n",
    "                            while DID in DID_list:\n",
    "                                DID=f\"55_{'{:2d}'.format(fake.random_number(digits=8))}\"\n",
    "                        DID_list.append(DID)\n",
    "                        \n",
    "                        fake_suborders = {\n",
    "                         'SubOrder_ID':new_so_id, \n",
    "                         'SKU':new_sku, \n",
    "                         'Order_ID':value,\n",
    "                         'QTY':fake.random_int(min=1, max=10),\n",
    "                         'Status':fake.random_element(elements=status),\n",
    "                         'Order_Fulfilment':ff,\n",
    "                         'Delivery_ID':DID\n",
    "                        } \n",
    "\n",
    "                        subord.append(fake_suborders)\n",
    "#                         df_subord=pd.DataFrame(subord)\n",
    "                        df_subord = pd.concat([df_subord, pd.DataFrame.from_records([fake_suborders])])\n",
    "#                         df_subord.append(fake_suborders,ignore_index=True)\n",
    "\n",
    "#                 df_subord=pd.DataFrame(subord)    \n",
    "            #make sure that the order_id, suborder_id, sku combination doesn't already exist\n",
    "            \n",
    "#         df_subord=pd.DataFrame(subord)    \n",
    "        return df_subord"
   ]
  },
  {
   "cell_type": "code",
   "execution_count": 22,
   "id": "f1017ef7",
   "metadata": {
    "execution": {
     "iopub.execute_input": "2023-05-02T23:40:20.217822Z",
     "iopub.status.busy": "2023-05-02T23:40:20.217514Z",
     "iopub.status.idle": "2023-05-02T23:48:43.104462Z",
     "shell.execute_reply": "2023-05-02T23:48:43.103602Z",
     "shell.execute_reply.started": "2023-05-02T23:40:20.217799Z"
    },
    "scrolled": true
   },
   "outputs": [
    {
     "data": {
      "text/plain": [
       "100000"
      ]
     },
     "execution_count": 22,
     "metadata": {},
     "output_type": "execute_result"
    }
   ],
   "source": [
    "\n",
    "suborders_df=make_suborders(100000,orders_df,SKU_df)\n",
    "len(suborders_df)"
   ]
  },
  {
   "cell_type": "code",
   "execution_count": 19,
   "id": "bbdd9bf8",
   "metadata": {
    "execution": {
     "iopub.execute_input": "2023-05-02T21:45:01.368243Z",
     "iopub.status.busy": "2023-05-02T21:45:01.367876Z",
     "iopub.status.idle": "2023-05-02T21:45:01.382236Z",
     "shell.execute_reply": "2023-05-02T21:45:01.381364Z",
     "shell.execute_reply.started": "2023-05-02T21:45:01.368213Z"
    }
   },
   "outputs": [],
   "source": [
    "export_subord=suborders_df.copy()"
   ]
  },
  {
   "cell_type": "code",
   "execution_count": 23,
   "id": "cbff7a1d",
   "metadata": {
    "execution": {
     "iopub.execute_input": "2023-05-02T23:48:43.106165Z",
     "iopub.status.busy": "2023-05-02T23:48:43.105838Z",
     "iopub.status.idle": "2023-05-02T23:48:43.118540Z",
     "shell.execute_reply": "2023-05-02T23:48:43.117587Z",
     "shell.execute_reply.started": "2023-05-02T23:48:43.106134Z"
    }
   },
   "outputs": [
    {
     "data": {
      "text/html": [
       "<div>\n",
       "<style scoped>\n",
       "    .dataframe tbody tr th:only-of-type {\n",
       "        vertical-align: middle;\n",
       "    }\n",
       "\n",
       "    .dataframe tbody tr th {\n",
       "        vertical-align: top;\n",
       "    }\n",
       "\n",
       "    .dataframe thead th {\n",
       "        text-align: right;\n",
       "    }\n",
       "</style>\n",
       "<table border=\"1\" class=\"dataframe\">\n",
       "  <thead>\n",
       "    <tr style=\"text-align: right;\">\n",
       "      <th></th>\n",
       "      <th>SubOrder_ID</th>\n",
       "      <th>SKU</th>\n",
       "      <th>Order_ID</th>\n",
       "      <th>QTY</th>\n",
       "      <th>Status</th>\n",
       "      <th>Order_Fulfilment</th>\n",
       "      <th>Delivery_ID</th>\n",
       "    </tr>\n",
       "  </thead>\n",
       "  <tbody>\n",
       "    <tr>\n",
       "      <th>0</th>\n",
       "      <td>AKT_91417776_ 9</td>\n",
       "      <td>SKU_8992</td>\n",
       "      <td>AKT_91417776</td>\n",
       "      <td>7</td>\n",
       "      <td>Return</td>\n",
       "      <td>Third Party</td>\n",
       "      <td></td>\n",
       "    </tr>\n",
       "    <tr>\n",
       "      <th>1</th>\n",
       "      <td>AKT_06690743_97</td>\n",
       "      <td>SKU_1034</td>\n",
       "      <td>AKT_06690743</td>\n",
       "      <td>8</td>\n",
       "      <td>Processing</td>\n",
       "      <td>AnyKart</td>\n",
       "      <td>55_35839366</td>\n",
       "    </tr>\n",
       "    <tr>\n",
       "      <th>2</th>\n",
       "      <td>AKT_00080636_75</td>\n",
       "      <td>SKU_8682</td>\n",
       "      <td>AKT_00080636</td>\n",
       "      <td>1</td>\n",
       "      <td>Delivered</td>\n",
       "      <td>AnyKart</td>\n",
       "      <td>55_18975164</td>\n",
       "    </tr>\n",
       "    <tr>\n",
       "      <th>3</th>\n",
       "      <td>AKT_78353374_30</td>\n",
       "      <td>SKU_5898</td>\n",
       "      <td>AKT_78353374</td>\n",
       "      <td>10</td>\n",
       "      <td>Return</td>\n",
       "      <td>Third Party</td>\n",
       "      <td></td>\n",
       "    </tr>\n",
       "    <tr>\n",
       "      <th>4</th>\n",
       "      <td>AKT_24158683_92</td>\n",
       "      <td>SKU_4207</td>\n",
       "      <td>AKT_24158683</td>\n",
       "      <td>4</td>\n",
       "      <td>Return</td>\n",
       "      <td>AnyKart</td>\n",
       "      <td>55_56731268</td>\n",
       "    </tr>\n",
       "  </tbody>\n",
       "</table>\n",
       "</div>"
      ],
      "text/plain": [
       "       SubOrder_ID       SKU      Order_ID  QTY      Status Order_Fulfilment  \\\n",
       "0  AKT_91417776_ 9  SKU_8992  AKT_91417776    7      Return      Third Party   \n",
       "1  AKT_06690743_97  SKU_1034  AKT_06690743    8  Processing          AnyKart   \n",
       "2  AKT_00080636_75  SKU_8682  AKT_00080636    1   Delivered          AnyKart   \n",
       "3  AKT_78353374_30  SKU_5898  AKT_78353374   10      Return      Third Party   \n",
       "4  AKT_24158683_92  SKU_4207  AKT_24158683    4      Return          AnyKart   \n",
       "\n",
       "   Delivery_ID  \n",
       "0               \n",
       "1  55_35839366  \n",
       "2  55_18975164  \n",
       "3               \n",
       "4  55_56731268  "
      ]
     },
     "execution_count": 23,
     "metadata": {},
     "output_type": "execute_result"
    }
   ],
   "source": [
    "suborders_df.head()"
   ]
  },
  {
   "cell_type": "code",
   "execution_count": 53,
   "id": "3c08b085",
   "metadata": {
    "execution": {
     "iopub.execute_input": "2023-05-02T23:04:37.704838Z",
     "iopub.status.busy": "2023-05-02T23:04:37.704483Z",
     "iopub.status.idle": "2023-05-02T23:04:37.756102Z",
     "shell.execute_reply": "2023-05-02T23:04:37.755242Z",
     "shell.execute_reply.started": "2023-05-02T23:04:37.704810Z"
    }
   },
   "outputs": [
    {
     "data": {
      "text/plain": [
       "47354"
      ]
     },
     "execution_count": 53,
     "metadata": {},
     "output_type": "execute_result"
    }
   ],
   "source": [
    "len(suborders_df[suborders_df['Delivery_ID']!='']['SubOrder_ID'].unique())"
   ]
  },
  {
   "cell_type": "code",
   "execution_count": 24,
   "id": "a1b0b812",
   "metadata": {
    "execution": {
     "iopub.execute_input": "2023-05-02T23:48:43.122159Z",
     "iopub.status.busy": "2023-05-02T23:48:43.121205Z",
     "iopub.status.idle": "2023-05-02T23:48:43.132857Z",
     "shell.execute_reply": "2023-05-02T23:48:43.131726Z",
     "shell.execute_reply.started": "2023-05-02T23:48:43.122122Z"
    }
   },
   "outputs": [],
   "source": [
    "def make_coupons(num):\n",
    "    \n",
    "    st_start_date = datetime.strptime('2022-08-01', '%Y-%m-%d').date()\n",
    "    st_end_date = datetime.strptime('2022-08-05', '%Y-%m-%d').date()\n",
    "\n",
    "    ed_start_date = datetime.strptime('2023-01-01', '%Y-%m-%d').date()\n",
    "    ed_end_date = datetime.strptime('2023-01-05', '%Y-%m-%d').date()\n",
    "    \n",
    "\n",
    "    \n",
    "    fake_coupons=[]\n",
    "    cpn_list=[]\n",
    "    \n",
    "    for i in range(num):\n",
    "        \n",
    "        PD=float(fake.pydecimal(left_digits=2, right_digits=2, min_value=5, max_value=10))\n",
    "        MV=float(fake.random_int(min=200, max=499))\n",
    "        cpn=fake.lexify(text='????').upper() +'_'+ str(round(PD))\n",
    "        \n",
    "        while cpn in cpn_list:\n",
    "            cpn=fake.lexify(text='????').upper() +'_'+ str(round(PD))\n",
    "        \n",
    "        fake_coupons_dict = {'Coupon_Code':cpn, \n",
    "             'Percentage_Discount':PD,\n",
    "             'Min_Order_Value':MV,\n",
    "             'Max_Discount':fake.random_int(min=int(round(MV*0.05+(MV*PD)/100)), max=int(round(MV*0.1+(MV*PD)/100))),\n",
    "             'Coupon_Start_Date':fake.date_between_dates(date_start=st_start_date, date_end=st_end_date),\n",
    "             'Coupon_End_Date':fake.date_between_dates(date_start=ed_start_date, date_end=ed_end_date)\n",
    "            }\n",
    "        \n",
    "        fake_coupons.append(fake_coupons_dict)\n",
    "        cpn_list.append(cpn)\n",
    "    \n",
    "    df_coupons=pd.DataFrame(fake_coupons)\n",
    "    \n",
    "\n",
    "    return df_coupons"
   ]
  },
  {
   "cell_type": "code",
   "execution_count": 25,
   "id": "c579b954",
   "metadata": {
    "execution": {
     "iopub.execute_input": "2023-05-02T23:48:43.134323Z",
     "iopub.status.busy": "2023-05-02T23:48:43.133930Z",
     "iopub.status.idle": "2023-05-02T23:48:43.198769Z",
     "shell.execute_reply": "2023-05-02T23:48:43.197905Z",
     "shell.execute_reply.started": "2023-05-02T23:48:43.134290Z"
    },
    "scrolled": true
   },
   "outputs": [
    {
     "data": {
      "text/html": [
       "<div>\n",
       "<style scoped>\n",
       "    .dataframe tbody tr th:only-of-type {\n",
       "        vertical-align: middle;\n",
       "    }\n",
       "\n",
       "    .dataframe tbody tr th {\n",
       "        vertical-align: top;\n",
       "    }\n",
       "\n",
       "    .dataframe thead th {\n",
       "        text-align: right;\n",
       "    }\n",
       "</style>\n",
       "<table border=\"1\" class=\"dataframe\">\n",
       "  <thead>\n",
       "    <tr style=\"text-align: right;\">\n",
       "      <th></th>\n",
       "      <th>Coupon_Code</th>\n",
       "      <th>Percentage_Discount</th>\n",
       "      <th>Min_Order_Value</th>\n",
       "      <th>Max_Discount</th>\n",
       "      <th>Coupon_Start_Date</th>\n",
       "      <th>Coupon_End_Date</th>\n",
       "    </tr>\n",
       "  </thead>\n",
       "  <tbody>\n",
       "    <tr>\n",
       "      <th>0</th>\n",
       "      <td>ZDXH_9</td>\n",
       "      <td>8.62</td>\n",
       "      <td>294.0</td>\n",
       "      <td>50</td>\n",
       "      <td>2022-08-02</td>\n",
       "      <td>2023-01-04</td>\n",
       "    </tr>\n",
       "    <tr>\n",
       "      <th>1</th>\n",
       "      <td>FOPM_5</td>\n",
       "      <td>5.07</td>\n",
       "      <td>393.0</td>\n",
       "      <td>43</td>\n",
       "      <td>2022-08-02</td>\n",
       "      <td>2023-01-03</td>\n",
       "    </tr>\n",
       "    <tr>\n",
       "      <th>2</th>\n",
       "      <td>FTFG_8</td>\n",
       "      <td>7.70</td>\n",
       "      <td>291.0</td>\n",
       "      <td>38</td>\n",
       "      <td>2022-08-04</td>\n",
       "      <td>2023-01-01</td>\n",
       "    </tr>\n",
       "    <tr>\n",
       "      <th>3</th>\n",
       "      <td>UCNK_10</td>\n",
       "      <td>10.00</td>\n",
       "      <td>258.0</td>\n",
       "      <td>44</td>\n",
       "      <td>2022-08-04</td>\n",
       "      <td>2023-01-01</td>\n",
       "    </tr>\n",
       "    <tr>\n",
       "      <th>4</th>\n",
       "      <td>LUPK_6</td>\n",
       "      <td>6.29</td>\n",
       "      <td>465.0</td>\n",
       "      <td>61</td>\n",
       "      <td>2022-08-02</td>\n",
       "      <td>2023-01-01</td>\n",
       "    </tr>\n",
       "  </tbody>\n",
       "</table>\n",
       "</div>"
      ],
      "text/plain": [
       "  Coupon_Code  Percentage_Discount  Min_Order_Value  Max_Discount  \\\n",
       "0      ZDXH_9                 8.62            294.0            50   \n",
       "1      FOPM_5                 5.07            393.0            43   \n",
       "2      FTFG_8                 7.70            291.0            38   \n",
       "3     UCNK_10                10.00            258.0            44   \n",
       "4      LUPK_6                 6.29            465.0            61   \n",
       "\n",
       "  Coupon_Start_Date Coupon_End_Date  \n",
       "0        2022-08-02      2023-01-04  \n",
       "1        2022-08-02      2023-01-03  \n",
       "2        2022-08-04      2023-01-01  \n",
       "3        2022-08-04      2023-01-01  \n",
       "4        2022-08-02      2023-01-01  "
      ]
     },
     "execution_count": 25,
     "metadata": {},
     "output_type": "execute_result"
    }
   ],
   "source": [
    "coupons=make_coupons(300)\n",
    "coupons.head()"
   ]
  },
  {
   "cell_type": "code",
   "execution_count": 26,
   "id": "5cf65dd8",
   "metadata": {
    "execution": {
     "iopub.execute_input": "2023-05-02T23:48:43.201780Z",
     "iopub.status.busy": "2023-05-02T23:48:43.201511Z",
     "iopub.status.idle": "2023-05-02T23:48:43.212237Z",
     "shell.execute_reply": "2023-05-02T23:48:43.211404Z",
     "shell.execute_reply.started": "2023-05-02T23:48:43.201759Z"
    }
   },
   "outputs": [],
   "source": [
    "def make_sales(df_subord,df_sku,df_coupons,df_ord):\n",
    "    \n",
    "    sales=[]\n",
    "#     global x_sku\n",
    "#     global x_cpn\n",
    "    df_sales= pd.DataFrame(columns=['SubOrder_ID', 'SKU', 'Product_Buying_Price','Product_Selling_Price','Coupon_Code','Discount_Percentage','Delivery_Charge','Tax','SubOrder_Value'])\n",
    "    for i in range(len(df_subord)):\n",
    "        print(i,\"th record\")\n",
    "        x_subord=df_subord.iloc[i]\n",
    "        sub_id=x_subord['SubOrder_ID']\n",
    "        sku=x_subord['SKU']\n",
    "        x_sku=df_sku[df_sku['SKU']==sku].iloc[0]\n",
    "        unq_coupons=coupons['Coupon_Code'].unique().tolist()\n",
    "        cpn=fake.random_element(elements=unq_coupons)\n",
    "        x_cpn=df_coupons[df_coupons['Coupon_Code']==cpn].iloc[0]\n",
    "        \n",
    "        #check if coupon can be applied\n",
    "        if (x_subord['QTY']*x_sku['Product_Selling_Price'])>=x_cpn['Min_Order_Value']:\n",
    "            \n",
    "            #check if max discount criteria is met\n",
    "            if ((x_subord['QTY']*x_sku['Product_Selling_Price'].item()*x_cpn['Percentage_Discount'].item())/100)>x_cpn['Max_Discount'].item():\n",
    "                sp=x_subord['QTY']*x_sku['Product_Selling_Price']-x_cpn['Max_Discount']\n",
    "            else:\n",
    "                sp=x_subord['QTY']*x_sku['Product_Selling_Price']-x_subord['QTY']*x_sku['Product_Selling_Price']*x_cpn['Percentage_Discount']/100\n",
    "            \n",
    "        \n",
    "        #check if delivery charge is 0\n",
    "#         global ord_id\n",
    "        \n",
    "        ord_id=x_subord['Order_ID']\n",
    "        x_ord=df_ord[df_ord['Order_ID']==ord_id]\n",
    "        \n",
    "        if str(x_ord['Shipment_Type'])=='Prime':\n",
    "            dlv_chrg=0\n",
    "        else:\n",
    "            dlv_chrg=float(fake.pydecimal(left_digits=2, right_digits=2, min_value=2, max_value=10))\n",
    "        \n",
    "        #Tax\n",
    "        psp=x_sku['Product_Selling_Price'].max()\n",
    "        Tax=round(sp*0.02,2)\n",
    "#         Tax=float(fake.pydecimal(left_digits=2, right_digits=2, min_value=3, max_value=5))\n",
    "        \n",
    "        #sub_value=x['SKU']\n",
    "        fake_sales = {\n",
    "         'SubOrder_ID':sub_id, \n",
    "         'SKU':sku, \n",
    "         'Product_Buying_Price':x_sku['Product_Buying_Price'],\n",
    "         'Product_Selling_Price':x_sku['Product_Selling_Price'],\n",
    "         'Coupon_Code':cpn,\n",
    "         'Discount_Percentage':x_cpn['Percentage_Discount'],\n",
    "         'Delivery_Charge':dlv_chrg,\n",
    "         'Tax':Tax,\n",
    "         'SubOrder_Value':sp+Tax+dlv_chrg\n",
    "                        }\n",
    "        sales.append(fake_sales)\n",
    "        \n",
    "        df_sales = pd.concat([df_sales, pd.DataFrame.from_records([fake_sales])])\n",
    "#         df_sales=pd.DataFrame(sales)\n",
    "    \n",
    "    return df_sales"
   ]
  },
  {
   "cell_type": "code",
   "execution_count": null,
   "id": "87052683",
   "metadata": {
    "_kg_hide-output": true
   },
   "outputs": [],
   "source": [
    "sales_df=make_sales(suborders_df,SKU_df,coupons,orders_df)\n",
    "len(sales_df)"
   ]
  },
  {
   "cell_type": "code",
   "execution_count": 39,
   "id": "edf5d48f",
   "metadata": {
    "execution": {
     "iopub.execute_input": "2023-05-02T22:58:46.677912Z",
     "iopub.status.busy": "2023-05-02T22:58:46.677576Z",
     "iopub.status.idle": "2023-05-02T22:58:46.686955Z",
     "shell.execute_reply": "2023-05-02T22:58:46.686051Z",
     "shell.execute_reply.started": "2023-05-02T22:58:46.677882Z"
    },
    "scrolled": true
   },
   "outputs": [
    {
     "data": {
      "text/plain": [
       "100000"
      ]
     },
     "execution_count": 39,
     "metadata": {},
     "output_type": "execute_result"
    }
   ],
   "source": [
    "len(sales_df)"
   ]
  },
  {
   "cell_type": "code",
   "execution_count": 28,
   "id": "ee97fb0b",
   "metadata": {
    "execution": {
     "iopub.execute_input": "2023-05-03T00:10:04.575545Z",
     "iopub.status.busy": "2023-05-03T00:10:04.574851Z",
     "iopub.status.idle": "2023-05-03T00:10:04.583306Z",
     "shell.execute_reply": "2023-05-03T00:10:04.582416Z",
     "shell.execute_reply.started": "2023-05-03T00:10:04.575500Z"
    }
   },
   "outputs": [],
   "source": [
    "def make_delivery(df_subord):\n",
    "    \n",
    "    delivery=[]\n",
    "    unq_delivery=df_subord[df_subord['Delivery_ID']!='']['Delivery_ID'].unique().tolist()\n",
    "    print(len(df_subord))\n",
    "    print(len(unq_delivery))\n",
    "    unq_proc_st=['In Transit','Packed','Out for Delivery','Shipped']\n",
    "    \n",
    "    for value in unq_delivery:\n",
    "        so_val=df_subord[df_subord['Delivery_ID']==value]['SubOrder_ID'].iloc[0]\n",
    "        status_val=df_subord[df_subord['Delivery_ID']==value]['Status'].iloc[0]\n",
    "        \n",
    "        base_status=['Canceled','Delivered','Return','Order Placed']\n",
    "        \n",
    "        if status_val in base_status:\n",
    "            del_status=status_val\n",
    "        else:\n",
    "            del_status=fake.random_element(elements=unq_proc_st)\n",
    "            \n",
    "        fake_delivery={\n",
    "            'Delivery_ID':value,\n",
    "#             'SubOrder_ID':so_val,\n",
    "            'Warehouse_ID':f\"WH_{'{:2d}'.format(fake.random_number(digits=4))}\",\n",
    "            'Status':del_status\n",
    "        }\n",
    "        delivery.append(fake_delivery)\n",
    "        \n",
    "    df_delivery=pd.DataFrame(delivery)\n",
    "    \n",
    "    return df_delivery"
   ]
  },
  {
   "cell_type": "code",
   "execution_count": 29,
   "id": "8153786d",
   "metadata": {
    "execution": {
     "iopub.execute_input": "2023-05-03T00:10:04.585335Z",
     "iopub.status.busy": "2023-05-03T00:10:04.584744Z",
     "iopub.status.idle": "2023-05-03T00:21:04.994983Z",
     "shell.execute_reply": "2023-05-03T00:21:04.994059Z",
     "shell.execute_reply.started": "2023-05-03T00:10:04.585301Z"
    }
   },
   "outputs": [
    {
     "name": "stdout",
     "output_type": "stream",
     "text": [
      "100000\n",
      "47272\n"
     ]
    }
   ],
   "source": [
    "delivery_df=make_delivery(suborders_df)\n",
    "# len(suborders_df)\n",
    "# len(delivery_df)"
   ]
  },
  {
   "cell_type": "code",
   "execution_count": 30,
   "id": "a0c27d39",
   "metadata": {
    "execution": {
     "iopub.execute_input": "2023-05-03T00:49:57.829182Z",
     "iopub.status.busy": "2023-05-03T00:49:57.828812Z",
     "iopub.status.idle": "2023-05-03T00:49:57.838678Z",
     "shell.execute_reply": "2023-05-03T00:49:57.835709Z",
     "shell.execute_reply.started": "2023-05-03T00:49:57.829156Z"
    }
   },
   "outputs": [
    {
     "data": {
      "text/plain": [
       "47272"
      ]
     },
     "execution_count": 30,
     "metadata": {},
     "output_type": "execute_result"
    }
   ],
   "source": [
    "len(delivery_df)"
   ]
  },
  {
   "cell_type": "code",
   "execution_count": 31,
   "id": "daba8583",
   "metadata": {
    "execution": {
     "iopub.execute_input": "2023-05-03T00:50:10.211495Z",
     "iopub.status.busy": "2023-05-03T00:50:10.210865Z",
     "iopub.status.idle": "2023-05-03T00:50:10.221203Z",
     "shell.execute_reply": "2023-05-03T00:50:10.219972Z",
     "shell.execute_reply.started": "2023-05-03T00:50:10.211457Z"
    }
   },
   "outputs": [
    {
     "data": {
      "text/html": [
       "<div>\n",
       "<style scoped>\n",
       "    .dataframe tbody tr th:only-of-type {\n",
       "        vertical-align: middle;\n",
       "    }\n",
       "\n",
       "    .dataframe tbody tr th {\n",
       "        vertical-align: top;\n",
       "    }\n",
       "\n",
       "    .dataframe thead th {\n",
       "        text-align: right;\n",
       "    }\n",
       "</style>\n",
       "<table border=\"1\" class=\"dataframe\">\n",
       "  <thead>\n",
       "    <tr style=\"text-align: right;\">\n",
       "      <th></th>\n",
       "      <th>Delivery_ID</th>\n",
       "      <th>Warehouse_ID</th>\n",
       "      <th>Status</th>\n",
       "    </tr>\n",
       "  </thead>\n",
       "  <tbody>\n",
       "    <tr>\n",
       "      <th>0</th>\n",
       "      <td>55_35839366</td>\n",
       "      <td>WH_6474</td>\n",
       "      <td>Out for Delivery</td>\n",
       "    </tr>\n",
       "    <tr>\n",
       "      <th>1</th>\n",
       "      <td>55_18975164</td>\n",
       "      <td>WH_4631</td>\n",
       "      <td>Delivered</td>\n",
       "    </tr>\n",
       "    <tr>\n",
       "      <th>2</th>\n",
       "      <td>55_56731268</td>\n",
       "      <td>WH_473</td>\n",
       "      <td>Return</td>\n",
       "    </tr>\n",
       "    <tr>\n",
       "      <th>3</th>\n",
       "      <td>55_61480647</td>\n",
       "      <td>WH_341</td>\n",
       "      <td>Order Placed</td>\n",
       "    </tr>\n",
       "    <tr>\n",
       "      <th>4</th>\n",
       "      <td>55_96440086</td>\n",
       "      <td>WH_4748</td>\n",
       "      <td>Return</td>\n",
       "    </tr>\n",
       "  </tbody>\n",
       "</table>\n",
       "</div>"
      ],
      "text/plain": [
       "   Delivery_ID Warehouse_ID            Status\n",
       "0  55_35839366      WH_6474  Out for Delivery\n",
       "1  55_18975164      WH_4631         Delivered\n",
       "2  55_56731268       WH_473            Return\n",
       "3  55_61480647       WH_341      Order Placed\n",
       "4  55_96440086      WH_4748            Return"
      ]
     },
     "execution_count": 31,
     "metadata": {},
     "output_type": "execute_result"
    }
   ],
   "source": [
    "delivery_df.head()"
   ]
  },
  {
   "cell_type": "code",
   "execution_count": 213,
   "id": "ccf0ee00",
   "metadata": {},
   "outputs": [],
   "source": [
    "#Extra stuff (for test)\n",
    "# suborders_df.index"
   ]
  },
  {
   "cell_type": "code",
   "execution_count": 214,
   "id": "3f7d0077",
   "metadata": {},
   "outputs": [],
   "source": [
    "#Extra stuff (for test)\n",
    "# suborders_df"
   ]
  },
  {
   "cell_type": "code",
   "execution_count": 215,
   "id": "33ebdda3",
   "metadata": {},
   "outputs": [],
   "source": [
    "#Extra stuff (for test)\n",
    "# sales_df"
   ]
  },
  {
   "cell_type": "code",
   "execution_count": 216,
   "id": "a1b845e5",
   "metadata": {},
   "outputs": [],
   "source": [
    "pd.merge(suborders_df,SKU_df,on=['SKU']).groupby('Order_ID').sum('Product_Selling_Price').to_csv(\"downloads//order_level.csv\")"
   ]
  },
  {
   "cell_type": "code",
   "execution_count": 32,
   "id": "e6296de9",
   "metadata": {
    "execution": {
     "iopub.execute_input": "2023-05-03T00:50:21.293310Z",
     "iopub.status.busy": "2023-05-03T00:50:21.292498Z",
     "iopub.status.idle": "2023-05-03T00:50:21.461272Z",
     "shell.execute_reply": "2023-05-03T00:50:21.460444Z",
     "shell.execute_reply.started": "2023-05-03T00:50:21.293277Z"
    }
   },
   "outputs": [
    {
     "data": {
      "text/plain": [
       "100000"
      ]
     },
     "execution_count": 32,
     "metadata": {},
     "output_type": "execute_result"
    }
   ],
   "source": [
    "#checking the join condition and number of rows in the resulting dataframe \n",
    "len(pd.merge(suborders_df,sales_df,on=['SubOrder_ID','SKU']))"
   ]
  },
  {
   "cell_type": "code",
   "execution_count": 33,
   "id": "d8d795bb",
   "metadata": {
    "execution": {
     "iopub.execute_input": "2023-05-03T00:50:27.571283Z",
     "iopub.status.busy": "2023-05-03T00:50:27.570938Z",
     "iopub.status.idle": "2023-05-03T00:50:27.756928Z",
     "shell.execute_reply": "2023-05-03T00:50:27.755944Z",
     "shell.execute_reply.started": "2023-05-03T00:50:27.571255Z"
    }
   },
   "outputs": [],
   "source": [
    "#update suborders for sales values\n",
    "updated_suborders=pd.merge(suborders_df,sales_df,on=['SubOrder_ID','SKU'])[['SubOrder_ID','SKU','Order_ID','QTY','Status','SubOrder_Value','Order_Fulfilment','Delivery_ID']]"
   ]
  },
  {
   "cell_type": "code",
   "execution_count": 219,
   "id": "f32bffc3",
   "metadata": {},
   "outputs": [
    {
     "data": {
      "text/plain": [
       "50"
      ]
     },
     "execution_count": 219,
     "metadata": {},
     "output_type": "execute_result"
    }
   ],
   "source": [
    "len(updated_suborders)"
   ]
  },
  {
   "cell_type": "code",
   "execution_count": 34,
   "id": "0c3974bb",
   "metadata": {
    "execution": {
     "iopub.execute_input": "2023-05-03T00:50:31.410419Z",
     "iopub.status.busy": "2023-05-03T00:50:31.410062Z",
     "iopub.status.idle": "2023-05-03T00:50:31.684592Z",
     "shell.execute_reply": "2023-05-03T00:50:31.683670Z",
     "shell.execute_reply.started": "2023-05-03T00:50:31.410390Z"
    }
   },
   "outputs": [],
   "source": [
    "#update orders with order value\n",
    "updated_orders=pd.merge(orders_df,pd.merge(orders_df,updated_suborders,on='Order_ID').groupby('Order_ID').sum('SubOrder_Value'),on='Order_ID').rename(columns={\"SubOrder_Value\":\"Order_value\"})[['Order_ID','Order_Date','Order_Source','Shipment_Type','Order_value']]"
   ]
  },
  {
   "cell_type": "code",
   "execution_count": 35,
   "id": "51949b50",
   "metadata": {
    "execution": {
     "iopub.execute_input": "2023-05-03T00:50:39.774356Z",
     "iopub.status.busy": "2023-05-03T00:50:39.774021Z",
     "iopub.status.idle": "2023-05-03T00:50:39.785846Z",
     "shell.execute_reply": "2023-05-03T00:50:39.784807Z",
     "shell.execute_reply.started": "2023-05-03T00:50:39.774329Z"
    }
   },
   "outputs": [
    {
     "data": {
      "text/html": [
       "<div>\n",
       "<style scoped>\n",
       "    .dataframe tbody tr th:only-of-type {\n",
       "        vertical-align: middle;\n",
       "    }\n",
       "\n",
       "    .dataframe tbody tr th {\n",
       "        vertical-align: top;\n",
       "    }\n",
       "\n",
       "    .dataframe thead th {\n",
       "        text-align: right;\n",
       "    }\n",
       "</style>\n",
       "<table border=\"1\" class=\"dataframe\">\n",
       "  <thead>\n",
       "    <tr style=\"text-align: right;\">\n",
       "      <th></th>\n",
       "      <th>Order_ID</th>\n",
       "      <th>Order_Date</th>\n",
       "      <th>Order_Source</th>\n",
       "      <th>Shipment_Type</th>\n",
       "      <th>Order_value</th>\n",
       "    </tr>\n",
       "  </thead>\n",
       "  <tbody>\n",
       "    <tr>\n",
       "      <th>0</th>\n",
       "      <td>AKT_91417776</td>\n",
       "      <td>2022-10-11</td>\n",
       "      <td>Others</td>\n",
       "      <td>Standard</td>\n",
       "      <td>2393.240</td>\n",
       "    </tr>\n",
       "    <tr>\n",
       "      <th>1</th>\n",
       "      <td>AKT_06690743</td>\n",
       "      <td>2022-12-24</td>\n",
       "      <td>Others</td>\n",
       "      <td>Standard</td>\n",
       "      <td>11020.160</td>\n",
       "    </tr>\n",
       "    <tr>\n",
       "      <th>2</th>\n",
       "      <td>AKT_00080636</td>\n",
       "      <td>2022-09-06</td>\n",
       "      <td>Others</td>\n",
       "      <td>Standard</td>\n",
       "      <td>4137.285</td>\n",
       "    </tr>\n",
       "    <tr>\n",
       "      <th>3</th>\n",
       "      <td>AKT_78353374</td>\n",
       "      <td>2022-09-05</td>\n",
       "      <td>AnyKart.Com</td>\n",
       "      <td>Prime</td>\n",
       "      <td>4959.270</td>\n",
       "    </tr>\n",
       "    <tr>\n",
       "      <th>4</th>\n",
       "      <td>AKT_24158683</td>\n",
       "      <td>2022-10-29</td>\n",
       "      <td>AnyKart.Com</td>\n",
       "      <td>Standard</td>\n",
       "      <td>5134.930</td>\n",
       "    </tr>\n",
       "  </tbody>\n",
       "</table>\n",
       "</div>"
      ],
      "text/plain": [
       "       Order_ID  Order_Date Order_Source Shipment_Type  Order_value\n",
       "0  AKT_91417776  2022-10-11       Others      Standard     2393.240\n",
       "1  AKT_06690743  2022-12-24       Others      Standard    11020.160\n",
       "2  AKT_00080636  2022-09-06       Others      Standard     4137.285\n",
       "3  AKT_78353374  2022-09-05  AnyKart.Com         Prime     4959.270\n",
       "4  AKT_24158683  2022-10-29  AnyKart.Com      Standard     5134.930"
      ]
     },
     "execution_count": 35,
     "metadata": {},
     "output_type": "execute_result"
    }
   ],
   "source": [
    "updated_orders.head()"
   ]
  },
  {
   "cell_type": "code",
   "execution_count": 36,
   "id": "0983f164",
   "metadata": {
    "execution": {
     "iopub.execute_input": "2023-05-03T00:50:48.889665Z",
     "iopub.status.busy": "2023-05-03T00:50:48.889286Z",
     "iopub.status.idle": "2023-05-03T00:50:48.906268Z",
     "shell.execute_reply": "2023-05-03T00:50:48.905119Z",
     "shell.execute_reply.started": "2023-05-03T00:50:48.889635Z"
    }
   },
   "outputs": [
    {
     "data": {
      "text/html": [
       "<div>\n",
       "<style scoped>\n",
       "    .dataframe tbody tr th:only-of-type {\n",
       "        vertical-align: middle;\n",
       "    }\n",
       "\n",
       "    .dataframe tbody tr th {\n",
       "        vertical-align: top;\n",
       "    }\n",
       "\n",
       "    .dataframe thead th {\n",
       "        text-align: right;\n",
       "    }\n",
       "</style>\n",
       "<table border=\"1\" class=\"dataframe\">\n",
       "  <thead>\n",
       "    <tr style=\"text-align: right;\">\n",
       "      <th></th>\n",
       "      <th>SubOrder_ID</th>\n",
       "      <th>SKU</th>\n",
       "      <th>Product_Buying_Price</th>\n",
       "      <th>Product_Selling_Price</th>\n",
       "      <th>Coupon_Code</th>\n",
       "      <th>Discount_Percentage</th>\n",
       "      <th>Delivery_Charge</th>\n",
       "      <th>Tax</th>\n",
       "      <th>SubOrder_Value</th>\n",
       "    </tr>\n",
       "  </thead>\n",
       "  <tbody>\n",
       "    <tr>\n",
       "      <th>0</th>\n",
       "      <td>AKT_91417776_ 9</td>\n",
       "      <td>SKU_8992</td>\n",
       "      <td>37</td>\n",
       "      <td>344</td>\n",
       "      <td>CWWF_9</td>\n",
       "      <td>9.30</td>\n",
       "      <td>3.38</td>\n",
       "      <td>46.86</td>\n",
       "      <td>2393.240</td>\n",
       "    </tr>\n",
       "    <tr>\n",
       "      <th>0</th>\n",
       "      <td>AKT_06690743_97</td>\n",
       "      <td>SKU_1034</td>\n",
       "      <td>111</td>\n",
       "      <td>298</td>\n",
       "      <td>DGRP_8</td>\n",
       "      <td>7.73</td>\n",
       "      <td>8.86</td>\n",
       "      <td>46.22</td>\n",
       "      <td>2366.080</td>\n",
       "    </tr>\n",
       "    <tr>\n",
       "      <th>0</th>\n",
       "      <td>AKT_00080636_75</td>\n",
       "      <td>SKU_8682</td>\n",
       "      <td>484</td>\n",
       "      <td>494</td>\n",
       "      <td>FUXP_9</td>\n",
       "      <td>9.25</td>\n",
       "      <td>3.76</td>\n",
       "      <td>8.97</td>\n",
       "      <td>461.035</td>\n",
       "    </tr>\n",
       "    <tr>\n",
       "      <th>0</th>\n",
       "      <td>AKT_78353374_30</td>\n",
       "      <td>SKU_5898</td>\n",
       "      <td>459</td>\n",
       "      <td>489</td>\n",
       "      <td>UOAW_5</td>\n",
       "      <td>5.19</td>\n",
       "      <td>2.07</td>\n",
       "      <td>97.20</td>\n",
       "      <td>4959.270</td>\n",
       "    </tr>\n",
       "    <tr>\n",
       "      <th>0</th>\n",
       "      <td>AKT_24158683_92</td>\n",
       "      <td>SKU_4207</td>\n",
       "      <td>376</td>\n",
       "      <td>494</td>\n",
       "      <td>WHVR_9</td>\n",
       "      <td>8.86</td>\n",
       "      <td>5.03</td>\n",
       "      <td>38.74</td>\n",
       "      <td>1980.770</td>\n",
       "    </tr>\n",
       "  </tbody>\n",
       "</table>\n",
       "</div>"
      ],
      "text/plain": [
       "       SubOrder_ID       SKU Product_Buying_Price Product_Selling_Price  \\\n",
       "0  AKT_91417776_ 9  SKU_8992                   37                   344   \n",
       "0  AKT_06690743_97  SKU_1034                  111                   298   \n",
       "0  AKT_00080636_75  SKU_8682                  484                   494   \n",
       "0  AKT_78353374_30  SKU_5898                  459                   489   \n",
       "0  AKT_24158683_92  SKU_4207                  376                   494   \n",
       "\n",
       "  Coupon_Code  Discount_Percentage  Delivery_Charge    Tax  SubOrder_Value  \n",
       "0      CWWF_9                 9.30             3.38  46.86        2393.240  \n",
       "0      DGRP_8                 7.73             8.86  46.22        2366.080  \n",
       "0      FUXP_9                 9.25             3.76   8.97         461.035  \n",
       "0      UOAW_5                 5.19             2.07  97.20        4959.270  \n",
       "0      WHVR_9                 8.86             5.03  38.74        1980.770  "
      ]
     },
     "execution_count": 36,
     "metadata": {},
     "output_type": "execute_result"
    }
   ],
   "source": [
    "sales_df.head()"
   ]
  },
  {
   "cell_type": "code",
   "execution_count": 35,
   "id": "3f48c7b3",
   "metadata": {
    "execution": {
     "iopub.execute_input": "2023-05-02T22:56:19.089774Z",
     "iopub.status.busy": "2023-05-02T22:56:19.089415Z",
     "iopub.status.idle": "2023-05-02T22:56:19.100315Z",
     "shell.execute_reply": "2023-05-02T22:56:19.099393Z",
     "shell.execute_reply.started": "2023-05-02T22:56:19.089743Z"
    },
    "scrolled": true
   },
   "outputs": [
    {
     "data": {
      "text/html": [
       "<div>\n",
       "<style scoped>\n",
       "    .dataframe tbody tr th:only-of-type {\n",
       "        vertical-align: middle;\n",
       "    }\n",
       "\n",
       "    .dataframe tbody tr th {\n",
       "        vertical-align: top;\n",
       "    }\n",
       "\n",
       "    .dataframe thead th {\n",
       "        text-align: right;\n",
       "    }\n",
       "</style>\n",
       "<table border=\"1\" class=\"dataframe\">\n",
       "  <thead>\n",
       "    <tr style=\"text-align: right;\">\n",
       "      <th></th>\n",
       "      <th>SKU</th>\n",
       "      <th>Product_Category</th>\n",
       "      <th>Product_Sub_Category</th>\n",
       "      <th>Product_Color</th>\n",
       "      <th>Product_Manufacturer</th>\n",
       "      <th>Product_Buying_Price</th>\n",
       "      <th>Product_Selling_Price</th>\n",
       "    </tr>\n",
       "  </thead>\n",
       "  <tbody>\n",
       "    <tr>\n",
       "      <th>0</th>\n",
       "      <td>SKU_8432</td>\n",
       "      <td>Clothing and Apparel</td>\n",
       "      <td>Kids</td>\n",
       "      <td>DarkCyan</td>\n",
       "      <td>MK</td>\n",
       "      <td>476</td>\n",
       "      <td>483</td>\n",
       "    </tr>\n",
       "    <tr>\n",
       "      <th>1</th>\n",
       "      <td>SKU_7836</td>\n",
       "      <td>Food</td>\n",
       "      <td>Frozen</td>\n",
       "      <td>None</td>\n",
       "      <td>Nyson</td>\n",
       "      <td>398</td>\n",
       "      <td>461</td>\n",
       "    </tr>\n",
       "    <tr>\n",
       "      <th>2</th>\n",
       "      <td>SKU_8992</td>\n",
       "      <td>Food</td>\n",
       "      <td>Groceries</td>\n",
       "      <td>None</td>\n",
       "      <td>Allogs</td>\n",
       "      <td>265</td>\n",
       "      <td>476</td>\n",
       "    </tr>\n",
       "    <tr>\n",
       "      <th>3</th>\n",
       "      <td>SKU_0504</td>\n",
       "      <td>Food</td>\n",
       "      <td>Frozen</td>\n",
       "      <td>None</td>\n",
       "      <td>Allogs</td>\n",
       "      <td>93</td>\n",
       "      <td>316</td>\n",
       "    </tr>\n",
       "    <tr>\n",
       "      <th>4</th>\n",
       "      <td>SKU_0508</td>\n",
       "      <td>Food</td>\n",
       "      <td>Meat</td>\n",
       "      <td>None</td>\n",
       "      <td>Mestle</td>\n",
       "      <td>264</td>\n",
       "      <td>453</td>\n",
       "    </tr>\n",
       "  </tbody>\n",
       "</table>\n",
       "</div>"
      ],
      "text/plain": [
       "        SKU      Product_Category Product_Sub_Category Product_Color  \\\n",
       "0  SKU_8432  Clothing and Apparel                 Kids      DarkCyan   \n",
       "1  SKU_7836                  Food               Frozen          None   \n",
       "2  SKU_8992                  Food            Groceries          None   \n",
       "3  SKU_0504                  Food               Frozen          None   \n",
       "4  SKU_0508                  Food                 Meat          None   \n",
       "\n",
       "  Product_Manufacturer  Product_Buying_Price  Product_Selling_Price  \n",
       "0                   MK                   476                    483  \n",
       "1                Nyson                   398                    461  \n",
       "2               Allogs                   265                    476  \n",
       "3               Allogs                    93                    316  \n",
       "4               Mestle                   264                    453  "
      ]
     },
     "execution_count": 35,
     "metadata": {},
     "output_type": "execute_result"
    }
   ],
   "source": [
    "SKU_df.head()"
   ]
  },
  {
   "cell_type": "code",
   "execution_count": 36,
   "id": "a93dc770",
   "metadata": {
    "execution": {
     "iopub.execute_input": "2023-05-02T22:56:20.936358Z",
     "iopub.status.busy": "2023-05-02T22:56:20.934673Z",
     "iopub.status.idle": "2023-05-02T22:56:20.949799Z",
     "shell.execute_reply": "2023-05-02T22:56:20.948381Z",
     "shell.execute_reply.started": "2023-05-02T22:56:20.936317Z"
    }
   },
   "outputs": [
    {
     "data": {
      "text/html": [
       "<div>\n",
       "<style scoped>\n",
       "    .dataframe tbody tr th:only-of-type {\n",
       "        vertical-align: middle;\n",
       "    }\n",
       "\n",
       "    .dataframe tbody tr th {\n",
       "        vertical-align: top;\n",
       "    }\n",
       "\n",
       "    .dataframe thead th {\n",
       "        text-align: right;\n",
       "    }\n",
       "</style>\n",
       "<table border=\"1\" class=\"dataframe\">\n",
       "  <thead>\n",
       "    <tr style=\"text-align: right;\">\n",
       "      <th></th>\n",
       "      <th>Coupon_Code</th>\n",
       "      <th>Percentage_Discount</th>\n",
       "      <th>Min_Order_Value</th>\n",
       "      <th>Max_Discount</th>\n",
       "      <th>Coupon_Start_Date</th>\n",
       "      <th>Coupon_End_Date</th>\n",
       "    </tr>\n",
       "  </thead>\n",
       "  <tbody>\n",
       "    <tr>\n",
       "      <th>0</th>\n",
       "      <td>TAFT_5</td>\n",
       "      <td>5.06</td>\n",
       "      <td>479.0</td>\n",
       "      <td>49</td>\n",
       "      <td>2022-08-02</td>\n",
       "      <td>2023-01-01</td>\n",
       "    </tr>\n",
       "    <tr>\n",
       "      <th>1</th>\n",
       "      <td>FAMY_7</td>\n",
       "      <td>7.00</td>\n",
       "      <td>370.0</td>\n",
       "      <td>44</td>\n",
       "      <td>2022-08-02</td>\n",
       "      <td>2023-01-02</td>\n",
       "    </tr>\n",
       "    <tr>\n",
       "      <th>2</th>\n",
       "      <td>XDOG_5</td>\n",
       "      <td>5.10</td>\n",
       "      <td>409.0</td>\n",
       "      <td>49</td>\n",
       "      <td>2022-08-04</td>\n",
       "      <td>2023-01-02</td>\n",
       "    </tr>\n",
       "    <tr>\n",
       "      <th>3</th>\n",
       "      <td>ZAYH_5</td>\n",
       "      <td>5.24</td>\n",
       "      <td>315.0</td>\n",
       "      <td>37</td>\n",
       "      <td>2022-08-04</td>\n",
       "      <td>2023-01-01</td>\n",
       "    </tr>\n",
       "    <tr>\n",
       "      <th>4</th>\n",
       "      <td>FOZY_8</td>\n",
       "      <td>7.79</td>\n",
       "      <td>306.0</td>\n",
       "      <td>50</td>\n",
       "      <td>2022-08-04</td>\n",
       "      <td>2023-01-03</td>\n",
       "    </tr>\n",
       "  </tbody>\n",
       "</table>\n",
       "</div>"
      ],
      "text/plain": [
       "  Coupon_Code  Percentage_Discount  Min_Order_Value  Max_Discount  \\\n",
       "0      TAFT_5                 5.06            479.0            49   \n",
       "1      FAMY_7                 7.00            370.0            44   \n",
       "2      XDOG_5                 5.10            409.0            49   \n",
       "3      ZAYH_5                 5.24            315.0            37   \n",
       "4      FOZY_8                 7.79            306.0            50   \n",
       "\n",
       "  Coupon_Start_Date Coupon_End_Date  \n",
       "0        2022-08-02      2023-01-01  \n",
       "1        2022-08-02      2023-01-02  \n",
       "2        2022-08-04      2023-01-02  \n",
       "3        2022-08-04      2023-01-01  \n",
       "4        2022-08-04      2023-01-03  "
      ]
     },
     "execution_count": 36,
     "metadata": {},
     "output_type": "execute_result"
    }
   ],
   "source": [
    "coupons.head()"
   ]
  },
  {
   "cell_type": "code",
   "execution_count": 38,
   "id": "78002f62",
   "metadata": {
    "execution": {
     "iopub.execute_input": "2023-05-03T00:53:41.000977Z",
     "iopub.status.busy": "2023-05-03T00:53:41.000637Z",
     "iopub.status.idle": "2023-05-03T00:53:41.404255Z",
     "shell.execute_reply": "2023-05-03T00:53:41.402878Z",
     "shell.execute_reply.started": "2023-05-03T00:53:41.000952Z"
    }
   },
   "outputs": [],
   "source": [
    "updated_suborders.to_csv(\"suborders.csv\",index=False)"
   ]
  },
  {
   "cell_type": "code",
   "execution_count": 40,
   "id": "f5730e2d",
   "metadata": {
    "execution": {
     "iopub.execute_input": "2023-05-03T00:53:56.117357Z",
     "iopub.status.busy": "2023-05-03T00:53:56.116409Z",
     "iopub.status.idle": "2023-05-03T00:53:56.427175Z",
     "shell.execute_reply": "2023-05-03T00:53:56.426244Z",
     "shell.execute_reply.started": "2023-05-03T00:53:56.117316Z"
    }
   },
   "outputs": [],
   "source": [
    "updated_orders.to_csv(\"orders.csv\",index=False)"
   ]
  },
  {
   "cell_type": "code",
   "execution_count": 41,
   "id": "044928b1",
   "metadata": {
    "execution": {
     "iopub.execute_input": "2023-05-03T00:54:09.588112Z",
     "iopub.status.busy": "2023-05-03T00:54:09.587779Z",
     "iopub.status.idle": "2023-05-03T00:54:10.051440Z",
     "shell.execute_reply": "2023-05-03T00:54:10.050504Z",
     "shell.execute_reply.started": "2023-05-03T00:54:09.588085Z"
    }
   },
   "outputs": [],
   "source": [
    "sales_df.to_csv(\"sales.csv\",index=False)"
   ]
  },
  {
   "cell_type": "code",
   "execution_count": 42,
   "id": "d8bb18d3",
   "metadata": {
    "execution": {
     "iopub.execute_input": "2023-05-03T00:54:16.485661Z",
     "iopub.status.busy": "2023-05-03T00:54:16.485282Z",
     "iopub.status.idle": "2023-05-03T00:54:16.494204Z",
     "shell.execute_reply": "2023-05-03T00:54:16.493209Z",
     "shell.execute_reply.started": "2023-05-03T00:54:16.485631Z"
    }
   },
   "outputs": [],
   "source": [
    "SKU_df.to_csv(\"SKUs.csv\",index=False)"
   ]
  },
  {
   "cell_type": "code",
   "execution_count": 43,
   "id": "871a53f9",
   "metadata": {
    "execution": {
     "iopub.execute_input": "2023-05-03T00:54:24.648414Z",
     "iopub.status.busy": "2023-05-03T00:54:24.648081Z",
     "iopub.status.idle": "2023-05-03T00:54:24.741157Z",
     "shell.execute_reply": "2023-05-03T00:54:24.740276Z",
     "shell.execute_reply.started": "2023-05-03T00:54:24.648388Z"
    }
   },
   "outputs": [],
   "source": [
    "delivery_df.to_csv(\"delivery.csv\",index=False)"
   ]
  },
  {
   "cell_type": "code",
   "execution_count": 44,
   "id": "8db4d9b5",
   "metadata": {
    "execution": {
     "iopub.execute_input": "2023-05-03T00:54:41.709409Z",
     "iopub.status.busy": "2023-05-03T00:54:41.708620Z",
     "iopub.status.idle": "2023-05-03T00:54:41.717432Z",
     "shell.execute_reply": "2023-05-03T00:54:41.716366Z",
     "shell.execute_reply.started": "2023-05-03T00:54:41.709377Z"
    }
   },
   "outputs": [],
   "source": [
    "coupons.to_csv(\"coupons.csv\",index=False)"
   ]
  }
 ],
 "metadata": {
  "kernelspec": {
   "display_name": "Python 3 (ipykernel)",
   "language": "python",
   "name": "python3"
  },
  "language_info": {
   "codemirror_mode": {
    "name": "ipython",
    "version": 3
   },
   "file_extension": ".py",
   "mimetype": "text/x-python",
   "name": "python",
   "nbconvert_exporter": "python",
   "pygments_lexer": "ipython3",
   "version": "3.9.12"
  }
 },
 "nbformat": 4,
 "nbformat_minor": 5
}
